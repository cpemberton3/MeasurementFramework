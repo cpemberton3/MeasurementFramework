{
 "cells": [
  {
   "cell_type": "markdown",
   "id": "d7dada2d-be44-4cd2-92b1-f76d66a0a2d3",
   "metadata": {},
   "source": [
    "# Build Slice"
   ]
  },
  {
   "cell_type": "code",
   "execution_count": null,
   "id": "98deee7e-d1d4-4ee1-9a3c-757f7ec4a6c2",
   "metadata": {},
   "outputs": [],
   "source": [
    "import os\n",
    "from fabrictestbed.slice_manager import SliceManager, Status\n",
    "import json\n",
    "from fabrictestbed.slice_editor import ExperimentTopology, Capacities, ComponentType, ComponentModelType, ServiceType\n",
    "\n",
    "ssh_key_file_priv=os.environ['HOME']+\"/.ssh/id_rsa\"\n",
    "ssh_key_file_pub=os.environ['HOME']+\"/.ssh/id_rsa.pub\"\n",
    "\n",
    "ssh_key = None\n",
    "with open (ssh_key_file_pub, \"r\") as myfile:\n",
    "    ssh_key=myfile.read()\n",
    "    ssh_key=ssh_key.strip()\n",
    "    \n",
    "credmgr_host = os.environ['FABRIC_CREDMGR_HOST']\n",
    "orchestrator_host = os.environ['FABRIC_ORCHESTRATOR_HOST']\n",
    "print(f\"CM Host: {credmgr_host} Orchestrator Host: {orchestrator_host}\")\n",
    "print(os.environ['FABRIC_CREDMGR_HOST'])\n",
    "\n",
    "slice_manager = SliceManager(oc_host=orchestrator_host, cm_host=credmgr_host, project_name='all', scope='all')\n",
    "\n",
    "# Initialize the slice manager\n",
    "slice_manager.initialize()\n",
    "\n",
    "slice_name='InstrumentizeTest'\n",
    "site='TACC'\n",
    "image_name='default_ubuntu_20'\n",
    "\n",
    "# Create topology\n",
    "myExperiment = ExperimentTopology()\n",
    "\n",
    "# Add nod\n",
    "Meas_Node = myExperiment.add_node(name=\"Meas_Node\", site=site)\n",
    "Node1 = myExperiment.add_node(name=\"Node1\", site=site)\n",
    "Node2 = myExperiment.add_node(name=\"Node2\", site=site)\n",
    "\n",
    "\n",
    "    \n",
    "# Set capacities\n",
    "\n",
    "cap = Capacities()\n",
    "cap.set_fields(core=2, ram=16, disk=100)\n",
    "\n",
    "# Set Properties\n",
    "Meas_Node.set_properties(capacities=cap, image_type='qcow2', image_ref=image_name)\n",
    "Node1.set_properties(capacities=cap, image_type='qcow2', image_ref=image_name)\n",
    "Node2.set_properties(capacities=cap, image_type='qcow2', image_ref=image_name)\n",
    "\n",
    "Meas_Node.add_component(model_type=ComponentModelType.SmartNIC_ConnectX_5, name='MDCnic1')\n",
    "Node1.add_component(model_type=ComponentModelType.SmartNIC_ConnectX_5, name='MDCnic2')\n",
    "#Node1.add_component(model_type=ComponentModelType.SmartNIC_ConnectX_5, name='MDCnic3')\n",
    "#Node2.add_component(model_type=ComponentModelType.SmartNIC_ConnectX_5, name='MDCnic4')\n",
    "Node2.add_component(model_type=ComponentModelType.SmartNIC_ConnectX_5, name='MDCnic5')\n",
    "\n",
    "\n",
    "\n",
    "print(myExperiment.interface_list)\n",
    "# Specify VLAN\n",
    "inter = myExperiment.interface_list[0]\n",
    "label = inter.get_property(pname=\"labels\")\n",
    "label.vlan = \"200\"\n",
    "inter.set_properties(labels = label)\n",
    "\n",
    "inter = myExperiment.interface_list[1]\n",
    "label = inter.get_property(pname=\"labels\")\n",
    "label.vlan = \"201\"\n",
    "inter.set_properties(labels = label)\n",
    "\n",
    "inter = myExperiment.interface_list[2]\n",
    "label = inter.get_property(pname=\"labels\")\n",
    "label.vlan = \"200\"\n",
    "inter.set_properties(labels = label)\n",
    "\n",
    "inter = myExperiment.interface_list[3]\n",
    "label = inter.get_property(pname=\"labels\")\n",
    "label.vlan = \"202\"\n",
    "inter.set_properties(labels = label)\n",
    "\n",
    "inter = myExperiment.interface_list[4]\n",
    "label = inter.get_property(pname=\"labels\")\n",
    "label.vlan = \"201\"\n",
    "inter.set_properties(labels = label)\n",
    "\n",
    "inter = myExperiment.interface_list[5]\n",
    "label = inter.get_property(pname=\"labels\")\n",
    "label.vlan = \"202\"\n",
    "inter.set_properties(labels = label)\n",
    "\n",
    "# L2PTP Service\n",
    "myExperiment.add_network_service(name='ptp1', nstype=ServiceType.L2PTP, interfaces=[Meas_Node.interface_list[0], Node1.interface_list[0]])\n",
    "myExperiment.add_network_service(name='ptp2', nstype=ServiceType.L2PTP, interfaces=[Meas_Node.interface_list[1], Node2.interface_list[0]])\n",
    "myExperiment.add_network_service(name='ptp3', nstype=ServiceType.L2PTP, interfaces=[Node1.interface_list[1], Node2.interface_list[1]])\n",
    "    \n",
    "# Generate Slice Graph\n",
    "slice_graph = myExperiment.serialize()\n",
    "# Request slice from Orchestrator\n",
    "status, reservations = slice_manager.create(slice_name=slice_name, slice_graph=slice_graph, ssh_key=ssh_key)\n",
    "\n",
    "print(\"Response Status {}\".format(status))\n",
    "if status == Status.OK:\n",
    "    print(\"Reservations created {}\".format(reservations))\n",
    "else:\n",
    "    print(f\"Failure: {reservations}\")"
   ]
  },
  {
   "cell_type": "code",
   "execution_count": null,
   "id": "d8c40574-7c87-4345-9d0e-08767a20e32b",
   "metadata": {},
   "outputs": [],
   "source": [
    "import os\n",
    "from fabrictestbed.slice_manager import SliceManager, Status, SliceState\n",
    "import json\n",
    "status, slices = slice_manager.slices(excludes=[SliceState.Closing, SliceState.Dead])\n",
    "\n",
    "print(\"Response Status {}\".format(status))\n",
    "if status == Status.OK:\n",
    "    print(\"Slices {}\".format(slices))\n",
    "    \n",
    "    slice_object=list(filter(lambda s: s.slice_name == slice_name, slices))[0]\n",
    "else:\n",
    "    print(f\"Failure: {slices}\")"
   ]
  },
  {
   "cell_type": "markdown",
   "id": "85833479-6dfe-4e22-b625-9e2831a8f226",
   "metadata": {},
   "source": [
    "# Only run after slice stableOK:"
   ]
  },
  {
   "cell_type": "code",
   "execution_count": null,
   "id": "623ff976-3970-48f0-87c8-3baad619822d",
   "metadata": {},
   "outputs": [],
   "source": [
    "import os\n",
    "from fabrictestbed.slice_manager import SliceManager, Status, SliceState\n",
    "import json\n",
    "\n",
    "return_status, slices = slice_manager.slices(excludes=[SliceState.Dead,SliceState.Closing])\n",
    "slice = list(filter(lambda x: x.slice_name == slice_name, slices))[0]\n",
    "print(slice)\n",
    "return_status, experiment_topology = slice_manager.get_slice_topology(slice_object=slice)\n",
    "print(return_status)\n",
    "for node_name, node in experiment_topology.nodes.items():\n",
    "    \n",
    "    print(\"Node:\")\n",
    "    print(\"   Name              : {}\".format(node.name))\n",
    "    print(\"   Cores             : {}\".format(node.get_property(pname='capacity_allocations').core))\n",
    "    print(\"   RAM               : {}\".format(node.get_property(pname='capacity_allocations').ram))\n",
    "    print(\"   Disk              : {}\".format(node.get_property(pname='capacity_allocations').disk))\n",
    "    print(\"   Image             : {}\".format(node.image_ref))\n",
    "    print(\"   Image Type        : {}\".format(node.image_type))\n",
    "    print(\"   Host              : {}\".format(node.get_property(pname='label_allocations').instance_parent))\n",
    "    print(\"   Site              : {}\".format(node.site))\n",
    "    print(\"   Management IP     : {}\".format(node.management_ip))\n",
    "    print(\"   Reservation ID    : {}\".format(node.get_property(pname='reservation_info').reservation_id))\n",
    "    print(\"   Reservation State : {}\".format(node.get_property(pname='reservation_info').reservation_state))\n",
    "    print(\"   Components        : {}\".format(node.components))\n",
    "    print(\"   Interfaces        : {}\".format(node.interfaces))\n",
    "    print(node)    "
   ]
  },
  {
   "cell_type": "markdown",
   "id": "089d10d2-2817-4d76-ab73-c9e79b1f5f55",
   "metadata": {},
   "source": [
    "# Run on Nodes:\n",
    "## Node0:\n",
    "```\n",
    "ip link add link ens7 name ens7.200 type vlan id 200\n",
    "ip link set dev ens7.200 up\n",
    "ip addr add 192.168.10.52/24 dev ens7.200\n",
    "```\n",
    "```\n",
    "ip link add link ens8 name ens8.201 type vlan id 201\n",
    "ip link set dev ens8.201 up\n",
    "ip addr add 192.168.10.53/24 dev ens8.201\n",
    "```\n",
    "## Node1:\n",
    "```\n",
    "ip link add link ens7 name ens7.200 type vlan id 200\n",
    "ip link set dev ens7.200 up\n",
    "ip addr add 192.168.10.51/24 dev ens7.200\n",
    "```\n",
    "```\n",
    "ip link add link ens8 name ens8.200 type vlan id 202\n",
    "ip link set dev ens8.202 up\n",
    "ip addr add 192.168.10.53/24 dev ens8\n",
    "```\n",
    "## Node2:\n",
    "```\n",
    "ip link add link ens7 name ens7.201 type vlan id 201\n",
    "ip link set dev ens7.201 up\n",
    "ip addr add 192.168.10.51/24 dev ens7.201\n",
    "```\n",
    "```\n",
    "ip link add link ens8 name ens8.202 type vlan id 202\n",
    "ip link set dev ens8.202 up\n",
    "ip addr add 192.168.10.52/24 dev ens8\n",
    "```"
   ]
  },
  {
   "cell_type": "markdown",
   "id": "e663f4c4",
   "metadata": {},
   "source": [
    "# Instrumentize Slice"
   ]
  },
  {
   "cell_type": "markdown",
   "id": "3c290f10-a6fe-4c6d-a2ed-b867ef7eff79",
   "metadata": {},
   "source": [
    "\n"
   ]
  },
  {
   "cell_type": "markdown",
   "id": "a6c9bc60",
   "metadata": {},
   "source": [
    "# Need to add Python code to do the following\n",
    "git clone git@github.com:fabric-testbed/MeasurementFramework.git\n",
    "git checkout add_fabric_experiment_role\n",
    "\n",
    "\n"
   ]
  },
  {
   "cell_type": "markdown",
   "id": "4a74578c",
   "metadata": {},
   "source": [
    "# Delete Slice"
   ]
  },
  {
   "cell_type": "code",
   "execution_count": 10,
   "id": "7d924f1d-82f3-4dde-a729-597d9c353cce",
   "metadata": {},
   "outputs": [
    {
     "name": "stdout",
     "output_type": "stream",
     "text": [
      "Response Status Status.OK\n",
      "Response received None\n"
     ]
    }
   ],
   "source": [
    "status, result = slice_manager.delete(slice_object=slice_object)\n",
    "\n",
    "print(\"Response Status {}\".format(status))\n",
    "print(\"Response received {}\".format(result))"
   ]
  },
  {
   "cell_type": "code",
   "execution_count": null,
   "id": "65126c99-4834-4a56-99a7-4eb90d8ef94e",
   "metadata": {},
   "outputs": [],
   "source": []
  }
 ],
 "metadata": {
  "kernelspec": {
   "display_name": "Python 3",
   "language": "python",
   "name": "python3"
  },
  "language_info": {
   "codemirror_mode": {
    "name": "ipython",
    "version": 3
   },
   "file_extension": ".py",
   "mimetype": "text/x-python",
   "name": "python",
   "nbconvert_exporter": "python",
   "pygments_lexer": "ipython3",
   "version": "3.9.2"
  }
 },
 "nbformat": 4,
 "nbformat_minor": 5
}
