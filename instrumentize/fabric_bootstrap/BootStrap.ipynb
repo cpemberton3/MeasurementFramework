{
 "cells": [
  {
   "cell_type": "markdown",
   "id": "baed676b-aa4a-4b26-b550-35451a009c89",
   "metadata": {},
   "source": [
    "# Boot Strapping Example\n",
    "\n",
    "This is used to example how the bootstrapping process works in Fabric."
   ]
  },
  {
   "cell_type": "markdown",
   "id": "521df5c1-ec60-46ed-a9f3-074400ba80a5",
   "metadata": {},
   "source": []
  },
  {
   "cell_type": "code",
   "execution_count": null,
   "id": "7d0ff796-4184-42c3-a674-6d0c7fcfdb96",
   "metadata": {},
   "outputs": [],
   "source": []
  },
  {
   "cell_type": "code",
   "execution_count": null,
   "id": "f2d43b59-7ded-4054-9d5d-3051ccb51695",
   "metadata": {},
   "outputs": [],
   "source": []
  }
 ],
 "metadata": {
  "kernelspec": {
   "display_name": "Python 3 (ipykernel)",
   "language": "python",
   "name": "python3"
  },
  "language_info": {
   "codemirror_mode": {
    "name": "ipython",
    "version": 3
   },
   "file_extension": ".py",
   "mimetype": "text/x-python",
   "name": "python",
   "nbconvert_exporter": "python",
   "pygments_lexer": "ipython3",
   "version": "3.9.2"
  }
 },
 "nbformat": 4,
 "nbformat_minor": 5
}
